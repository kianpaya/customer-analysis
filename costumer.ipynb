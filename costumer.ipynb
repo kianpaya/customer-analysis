{
 "cells": [
  {
   "cell_type": "code",
   "execution_count": 1,
   "metadata": {},
   "outputs": [],
   "source": [
    "import pandas as pd"
   ]
  },
  {
   "cell_type": "code",
   "execution_count": 2,
   "metadata": {},
   "outputs": [
    {
     "name": "stderr",
     "output_type": "stream",
     "text": [
      "C:\\Users\\kianp\\AppData\\Local\\Temp\\ipykernel_26932\\2811829856.py:1: DtypeWarning: Columns (0) have mixed types. Specify dtype option on import or set low_memory=False.\n",
      "  df = pd.read_csv(\"Customer Analysis.csv\")\n"
     ]
    },
    {
     "data": {
      "text/html": [
       "<div>\n",
       "<style scoped>\n",
       "    .dataframe tbody tr th:only-of-type {\n",
       "        vertical-align: middle;\n",
       "    }\n",
       "\n",
       "    .dataframe tbody tr th {\n",
       "        vertical-align: top;\n",
       "    }\n",
       "\n",
       "    .dataframe thead th {\n",
       "        text-align: right;\n",
       "    }\n",
       "</style>\n",
       "<table border=\"1\" class=\"dataframe\">\n",
       "  <thead>\n",
       "    <tr style=\"text-align: right;\">\n",
       "      <th></th>\n",
       "      <th>order_id</th>\n",
       "      <th>order_date</th>\n",
       "      <th>status</th>\n",
       "      <th>item_id</th>\n",
       "      <th>sku</th>\n",
       "      <th>qty_ordered</th>\n",
       "      <th>price</th>\n",
       "      <th>value</th>\n",
       "      <th>discount_amount</th>\n",
       "      <th>total</th>\n",
       "      <th>...</th>\n",
       "      <th>SSN</th>\n",
       "      <th>Phone No.</th>\n",
       "      <th>Place Name</th>\n",
       "      <th>County</th>\n",
       "      <th>City</th>\n",
       "      <th>State</th>\n",
       "      <th>Zip</th>\n",
       "      <th>Region</th>\n",
       "      <th>User Name</th>\n",
       "      <th>Discount_Percent</th>\n",
       "    </tr>\n",
       "  </thead>\n",
       "  <tbody>\n",
       "    <tr>\n",
       "      <th>0</th>\n",
       "      <td>100354678</td>\n",
       "      <td>01/10/2020</td>\n",
       "      <td>received</td>\n",
       "      <td>574772</td>\n",
       "      <td>oasis_Oasis-064-36</td>\n",
       "      <td>21</td>\n",
       "      <td>89.9</td>\n",
       "      <td>1798.0</td>\n",
       "      <td>0.0</td>\n",
       "      <td>1798.0</td>\n",
       "      <td>...</td>\n",
       "      <td>627-31-5251</td>\n",
       "      <td>405-959-1129</td>\n",
       "      <td>Vinson</td>\n",
       "      <td>Harmon</td>\n",
       "      <td>Vinson</td>\n",
       "      <td>OK</td>\n",
       "      <td>73571</td>\n",
       "      <td>South</td>\n",
       "      <td>jwtitus</td>\n",
       "      <td>0.0</td>\n",
       "    </tr>\n",
       "    <tr>\n",
       "      <th>1</th>\n",
       "      <td>100354678</td>\n",
       "      <td>01/10/2020</td>\n",
       "      <td>received</td>\n",
       "      <td>574774</td>\n",
       "      <td>Fantastic_FT-48</td>\n",
       "      <td>11</td>\n",
       "      <td>19.0</td>\n",
       "      <td>190.0</td>\n",
       "      <td>0.0</td>\n",
       "      <td>190.0</td>\n",
       "      <td>...</td>\n",
       "      <td>627-31-5251</td>\n",
       "      <td>405-959-1129</td>\n",
       "      <td>Vinson</td>\n",
       "      <td>Harmon</td>\n",
       "      <td>Vinson</td>\n",
       "      <td>OK</td>\n",
       "      <td>73571</td>\n",
       "      <td>South</td>\n",
       "      <td>jwtitus</td>\n",
       "      <td>0.0</td>\n",
       "    </tr>\n",
       "    <tr>\n",
       "      <th>2</th>\n",
       "      <td>100354680</td>\n",
       "      <td>01/10/2020</td>\n",
       "      <td>complete</td>\n",
       "      <td>574777</td>\n",
       "      <td>mdeal_DMC-610-8</td>\n",
       "      <td>9</td>\n",
       "      <td>149.9</td>\n",
       "      <td>1199.2</td>\n",
       "      <td>0.0</td>\n",
       "      <td>1199.2</td>\n",
       "      <td>...</td>\n",
       "      <td>627-31-5251</td>\n",
       "      <td>405-959-1129</td>\n",
       "      <td>Vinson</td>\n",
       "      <td>Harmon</td>\n",
       "      <td>Vinson</td>\n",
       "      <td>OK</td>\n",
       "      <td>73571</td>\n",
       "      <td>South</td>\n",
       "      <td>jwtitus</td>\n",
       "      <td>0.0</td>\n",
       "    </tr>\n",
       "    <tr>\n",
       "      <th>3</th>\n",
       "      <td>100354680</td>\n",
       "      <td>01/10/2020</td>\n",
       "      <td>complete</td>\n",
       "      <td>574779</td>\n",
       "      <td>oasis_Oasis-061-36</td>\n",
       "      <td>9</td>\n",
       "      <td>79.9</td>\n",
       "      <td>639.2</td>\n",
       "      <td>0.0</td>\n",
       "      <td>639.2</td>\n",
       "      <td>...</td>\n",
       "      <td>627-31-5251</td>\n",
       "      <td>405-959-1129</td>\n",
       "      <td>Vinson</td>\n",
       "      <td>Harmon</td>\n",
       "      <td>Vinson</td>\n",
       "      <td>OK</td>\n",
       "      <td>73571</td>\n",
       "      <td>South</td>\n",
       "      <td>jwtitus</td>\n",
       "      <td>0.0</td>\n",
       "    </tr>\n",
       "    <tr>\n",
       "      <th>4</th>\n",
       "      <td>100367357</td>\n",
       "      <td>13/11/2020</td>\n",
       "      <td>received</td>\n",
       "      <td>595185</td>\n",
       "      <td>MEFNAR59C38B6CA08CD</td>\n",
       "      <td>2</td>\n",
       "      <td>99.9</td>\n",
       "      <td>99.9</td>\n",
       "      <td>0.0</td>\n",
       "      <td>99.9</td>\n",
       "      <td>...</td>\n",
       "      <td>627-31-5251</td>\n",
       "      <td>405-959-1129</td>\n",
       "      <td>Vinson</td>\n",
       "      <td>Harmon</td>\n",
       "      <td>Vinson</td>\n",
       "      <td>OK</td>\n",
       "      <td>73571</td>\n",
       "      <td>South</td>\n",
       "      <td>jwtitus</td>\n",
       "      <td>0.0</td>\n",
       "    </tr>\n",
       "    <tr>\n",
       "      <th>...</th>\n",
       "      <td>...</td>\n",
       "      <td>...</td>\n",
       "      <td>...</td>\n",
       "      <td>...</td>\n",
       "      <td>...</td>\n",
       "      <td>...</td>\n",
       "      <td>...</td>\n",
       "      <td>...</td>\n",
       "      <td>...</td>\n",
       "      <td>...</td>\n",
       "      <td>...</td>\n",
       "      <td>...</td>\n",
       "      <td>...</td>\n",
       "      <td>...</td>\n",
       "      <td>...</td>\n",
       "      <td>...</td>\n",
       "      <td>...</td>\n",
       "      <td>...</td>\n",
       "      <td>...</td>\n",
       "      <td>...</td>\n",
       "      <td>...</td>\n",
       "    </tr>\n",
       "    <tr>\n",
       "      <th>286387</th>\n",
       "      <td>100562365</td>\n",
       "      <td>30/09/2021</td>\n",
       "      <td>paid</td>\n",
       "      <td>905179</td>\n",
       "      <td>APPCHA5AF14939B8F8A</td>\n",
       "      <td>2</td>\n",
       "      <td>4419.9</td>\n",
       "      <td>4419.9</td>\n",
       "      <td>0.0</td>\n",
       "      <td>4419.9</td>\n",
       "      <td>...</td>\n",
       "      <td>613-87-0361</td>\n",
       "      <td>212-772-7404</td>\n",
       "      <td>Rushville</td>\n",
       "      <td>Yates</td>\n",
       "      <td>Rushville</td>\n",
       "      <td>NY</td>\n",
       "      <td>14544</td>\n",
       "      <td>Northeast</td>\n",
       "      <td>bklatham</td>\n",
       "      <td>0.0</td>\n",
       "    </tr>\n",
       "    <tr>\n",
       "      <th>286388</th>\n",
       "      <td>100562376</td>\n",
       "      <td>30/09/2021</td>\n",
       "      <td>cod</td>\n",
       "      <td>905191</td>\n",
       "      <td>MEFCOT5A8D1E973B886</td>\n",
       "      <td>2</td>\n",
       "      <td>39.9</td>\n",
       "      <td>39.9</td>\n",
       "      <td>0.0</td>\n",
       "      <td>39.9</td>\n",
       "      <td>...</td>\n",
       "      <td>101-02-1040</td>\n",
       "      <td>229-817-9451</td>\n",
       "      <td>Lawrenceville</td>\n",
       "      <td>Gwinnett</td>\n",
       "      <td>Lawrenceville</td>\n",
       "      <td>GA</td>\n",
       "      <td>30044</td>\n",
       "      <td>South</td>\n",
       "      <td>bmbrunetti</td>\n",
       "      <td>0.0</td>\n",
       "    </tr>\n",
       "    <tr>\n",
       "      <th>286389</th>\n",
       "      <td>100562383</td>\n",
       "      <td>30/09/2021</td>\n",
       "      <td>cod</td>\n",
       "      <td>905200</td>\n",
       "      <td>WOFVAL59D5EA84167F9-M</td>\n",
       "      <td>2</td>\n",
       "      <td>40.0</td>\n",
       "      <td>40.0</td>\n",
       "      <td>0.0</td>\n",
       "      <td>40.0</td>\n",
       "      <td>...</td>\n",
       "      <td>399-31-7238</td>\n",
       "      <td>252-414-8396</td>\n",
       "      <td>Durham</td>\n",
       "      <td>Durham</td>\n",
       "      <td>Durham</td>\n",
       "      <td>NC</td>\n",
       "      <td>27701</td>\n",
       "      <td>South</td>\n",
       "      <td>fngiusti</td>\n",
       "      <td>0.0</td>\n",
       "    </tr>\n",
       "    <tr>\n",
       "      <th>286390</th>\n",
       "      <td>100562384</td>\n",
       "      <td>30/09/2021</td>\n",
       "      <td>cod</td>\n",
       "      <td>905202</td>\n",
       "      <td>WOFNIG5B4D7EB0E9FDD-L</td>\n",
       "      <td>2</td>\n",
       "      <td>49.9</td>\n",
       "      <td>49.9</td>\n",
       "      <td>0.0</td>\n",
       "      <td>49.9</td>\n",
       "      <td>...</td>\n",
       "      <td>399-31-7238</td>\n",
       "      <td>252-414-8396</td>\n",
       "      <td>Durham</td>\n",
       "      <td>Durham</td>\n",
       "      <td>Durham</td>\n",
       "      <td>NC</td>\n",
       "      <td>27701</td>\n",
       "      <td>South</td>\n",
       "      <td>fngiusti</td>\n",
       "      <td>0.0</td>\n",
       "    </tr>\n",
       "    <tr>\n",
       "      <th>286391</th>\n",
       "      <td>100562386</td>\n",
       "      <td>30/09/2021</td>\n",
       "      <td>processing</td>\n",
       "      <td>905205</td>\n",
       "      <td>MATHUA5AF70A7D1E50A</td>\n",
       "      <td>2</td>\n",
       "      <td>3559.9</td>\n",
       "      <td>3559.9</td>\n",
       "      <td>0.0</td>\n",
       "      <td>3559.9</td>\n",
       "      <td>...</td>\n",
       "      <td>320-11-8748</td>\n",
       "      <td>423-276-2699</td>\n",
       "      <td>Knoxville</td>\n",
       "      <td>Knox</td>\n",
       "      <td>Knoxville</td>\n",
       "      <td>TN</td>\n",
       "      <td>37920</td>\n",
       "      <td>South</td>\n",
       "      <td>reschlosser</td>\n",
       "      <td>0.0</td>\n",
       "    </tr>\n",
       "  </tbody>\n",
       "</table>\n",
       "<p>286392 rows × 36 columns</p>\n",
       "</div>"
      ],
      "text/plain": [
       "         order_id  order_date      status  item_id                    sku  \\\n",
       "0       100354678  01/10/2020    received   574772     oasis_Oasis-064-36   \n",
       "1       100354678  01/10/2020    received   574774        Fantastic_FT-48   \n",
       "2       100354680  01/10/2020    complete   574777        mdeal_DMC-610-8   \n",
       "3       100354680  01/10/2020    complete   574779     oasis_Oasis-061-36   \n",
       "4       100367357  13/11/2020    received   595185    MEFNAR59C38B6CA08CD   \n",
       "...           ...         ...         ...      ...                    ...   \n",
       "286387  100562365  30/09/2021        paid   905179    APPCHA5AF14939B8F8A   \n",
       "286388  100562376  30/09/2021         cod   905191    MEFCOT5A8D1E973B886   \n",
       "286389  100562383  30/09/2021         cod   905200  WOFVAL59D5EA84167F9-M   \n",
       "286390  100562384  30/09/2021         cod   905202  WOFNIG5B4D7EB0E9FDD-L   \n",
       "286391  100562386  30/09/2021  processing   905205    MATHUA5AF70A7D1E50A   \n",
       "\n",
       "        qty_ordered   price   value  discount_amount   total  ...  \\\n",
       "0                21    89.9  1798.0              0.0  1798.0  ...   \n",
       "1                11    19.0   190.0              0.0   190.0  ...   \n",
       "2                 9   149.9  1199.2              0.0  1199.2  ...   \n",
       "3                 9    79.9   639.2              0.0   639.2  ...   \n",
       "4                 2    99.9    99.9              0.0    99.9  ...   \n",
       "...             ...     ...     ...              ...     ...  ...   \n",
       "286387            2  4419.9  4419.9              0.0  4419.9  ...   \n",
       "286388            2    39.9    39.9              0.0    39.9  ...   \n",
       "286389            2    40.0    40.0              0.0    40.0  ...   \n",
       "286390            2    49.9    49.9              0.0    49.9  ...   \n",
       "286391            2  3559.9  3559.9              0.0  3559.9  ...   \n",
       "\n",
       "                SSN    Phone No.      Place Name    County           City  \\\n",
       "0       627-31-5251  405-959-1129         Vinson    Harmon         Vinson   \n",
       "1       627-31-5251  405-959-1129         Vinson    Harmon         Vinson   \n",
       "2       627-31-5251  405-959-1129         Vinson    Harmon         Vinson   \n",
       "3       627-31-5251  405-959-1129         Vinson    Harmon         Vinson   \n",
       "4       627-31-5251  405-959-1129         Vinson    Harmon         Vinson   \n",
       "...             ...           ...            ...       ...            ...   \n",
       "286387  613-87-0361  212-772-7404      Rushville     Yates      Rushville   \n",
       "286388  101-02-1040  229-817-9451  Lawrenceville  Gwinnett  Lawrenceville   \n",
       "286389  399-31-7238  252-414-8396         Durham    Durham         Durham   \n",
       "286390  399-31-7238  252-414-8396         Durham    Durham         Durham   \n",
       "286391  320-11-8748  423-276-2699      Knoxville      Knox      Knoxville   \n",
       "\n",
       "       State    Zip     Region    User Name Discount_Percent  \n",
       "0         OK  73571      South      jwtitus              0.0  \n",
       "1         OK  73571      South      jwtitus              0.0  \n",
       "2         OK  73571      South      jwtitus              0.0  \n",
       "3         OK  73571      South      jwtitus              0.0  \n",
       "4         OK  73571      South      jwtitus              0.0  \n",
       "...      ...    ...        ...          ...              ...  \n",
       "286387    NY  14544  Northeast     bklatham              0.0  \n",
       "286388    GA  30044      South   bmbrunetti              0.0  \n",
       "286389    NC  27701      South     fngiusti              0.0  \n",
       "286390    NC  27701      South     fngiusti              0.0  \n",
       "286391    TN  37920      South  reschlosser              0.0  \n",
       "\n",
       "[286392 rows x 36 columns]"
      ]
     },
     "execution_count": 2,
     "metadata": {},
     "output_type": "execute_result"
    }
   ],
   "source": [
    "df = pd.read_csv(\"Customer Analysis.csv\")\n",
    "df"
   ]
  },
  {
   "cell_type": "code",
   "execution_count": 3,
   "metadata": {},
   "outputs": [
    {
     "name": "stdout",
     "output_type": "stream",
     "text": [
      "<class 'pandas.core.frame.DataFrame'>\n",
      "RangeIndex: 286392 entries, 0 to 286391\n",
      "Data columns (total 36 columns):\n",
      " #   Column            Non-Null Count   Dtype  \n",
      "---  ------            --------------   -----  \n",
      " 0   order_id          286392 non-null  object \n",
      " 1   order_date        286392 non-null  object \n",
      " 2   status            286392 non-null  object \n",
      " 3   item_id           286392 non-null  int64  \n",
      " 4   sku               286392 non-null  object \n",
      " 5   qty_ordered       286392 non-null  int64  \n",
      " 6   price             286392 non-null  float64\n",
      " 7   value             286392 non-null  float64\n",
      " 8   discount_amount   286392 non-null  float64\n",
      " 9   total             286392 non-null  float64\n",
      " 10  category          286392 non-null  object \n",
      " 11  payment_method    286392 non-null  object \n",
      " 12  bi_st             286392 non-null  object \n",
      " 13  cust_id           286392 non-null  int64  \n",
      " 14  year              286392 non-null  int64  \n",
      " 15  month             286392 non-null  object \n",
      " 16  ref_num           286392 non-null  int64  \n",
      " 17  Name Prefix       286392 non-null  object \n",
      " 18  First Name        286392 non-null  object \n",
      " 19  Middle Initial    286392 non-null  object \n",
      " 20  Last Name         286392 non-null  object \n",
      " 21  Gender            286392 non-null  object \n",
      " 22  age               286392 non-null  int64  \n",
      " 23  full_name         286392 non-null  object \n",
      " 24  E Mail            286392 non-null  object \n",
      " 25  Customer Since    286392 non-null  object \n",
      " 26  SSN               286392 non-null  object \n",
      " 27  Phone No.         286392 non-null  object \n",
      " 28  Place Name        286392 non-null  object \n",
      " 29  County            286392 non-null  object \n",
      " 30  City              286392 non-null  object \n",
      " 31  State             286392 non-null  object \n",
      " 32  Zip               286392 non-null  int64  \n",
      " 33  Region            286392 non-null  object \n",
      " 34  User Name         286392 non-null  object \n",
      " 35  Discount_Percent  286392 non-null  float64\n",
      "dtypes: float64(5), int64(7), object(24)\n",
      "memory usage: 78.7+ MB\n"
     ]
    }
   ],
   "source": [
    "df.info()"
   ]
  },
  {
   "cell_type": "code",
   "execution_count": 4,
   "metadata": {},
   "outputs": [
    {
     "data": {
      "text/plain": [
       "0         2020\n",
       "1         2020\n",
       "2         2020\n",
       "3         2020\n",
       "4         2020\n",
       "          ... \n",
       "286387    2021\n",
       "286388    2021\n",
       "286389    2021\n",
       "286390    2021\n",
       "286391    2021\n",
       "Name: year, Length: 286392, dtype: int64"
      ]
     },
     "execution_count": 4,
     "metadata": {},
     "output_type": "execute_result"
    }
   ],
   "source": [
    "df[\"year\"]"
   ]
  },
  {
   "cell_type": "code",
   "execution_count": 5,
   "metadata": {},
   "outputs": [
    {
     "data": {
      "text/plain": [
       "year\n",
       "2021    177213\n",
       "2020    109179\n",
       "Name: count, dtype: int64"
      ]
     },
     "execution_count": 5,
     "metadata": {},
     "output_type": "execute_result"
    }
   ],
   "source": [
    "df[\"year\"].value_counts()"
   ]
  },
  {
   "cell_type": "code",
   "execution_count": 6,
   "metadata": {},
   "outputs": [],
   "source": [
    "import matplotlib.pyplot as plt"
   ]
  },
  {
   "cell_type": "code",
   "execution_count": 8,
   "metadata": {},
   "outputs": [
    {
     "data": {
      "image/png": "[encoded data removed]",
      "text/plain": [
       "<Figure size 640x480 with 1 Axes>"
      ]
     },
     "metadata": {},
     "output_type": "display_data"
    }
   ],
   "source": [
    "y_2021 = df[df[\"year\"] == 2021]\n",
    "y_2020 = df[df[\"year\"] == 2020]\n",
    "plt.bar([\"2020\" , \"2021\"] , [len(y_2020) , len(y_2021)] , color=[\"blue\" , \"green\"])\n",
    "plt.title(\"NUMBER OF CUSTOMERS PER YEAR\" , color=\"blue\")\n",
    "plt.xlabel(\"YEARS\")\n",
    "plt.ylabel(\"COUNT\")\n",
    "plt.show()\n"
   ]
  },
  {
   "cell_type": "code",
   "execution_count": 9,
   "metadata": {},
   "outputs": [
    {
     "data": {
      "text/plain": [
       "County\n",
       "Jefferson        3510\n",
       "Los Angeles      3198\n",
       "DeKalb           3098\n",
       "Washington       2863\n",
       "Montgomery       2563\n",
       "                 ... \n",
       "Bloom City          1\n",
       "Cinda               1\n",
       "Lisbon Center       1\n",
       "Clintonville        1\n",
       "Burnwell            1\n",
       "Name: count, Length: 2551, dtype: int64"
      ]
     },
     "execution_count": 9,
     "metadata": {},
     "output_type": "execute_result"
    }
   ],
   "source": [
    "df[\"County\"].value_counts()"
   ]
  },
  {
   "cell_type": "code",
   "execution_count": 10,
   "metadata": {},
   "outputs": [
    {
     "data": {
      "text/plain": [
       "State\n",
       "TX    17510\n",
       "CA    17130\n",
       "NY    15567\n",
       "PA    14394\n",
       "IL    12628\n",
       "FL    10538\n",
       "OH    10204\n",
       "MO     8876\n",
       "VA     8557\n",
       "IA     8170\n",
       "MN     8020\n",
       "NC     7549\n",
       "KY     7397\n",
       "MI     7137\n",
       "IN     6738\n",
       "WV     6447\n",
       "GA     6346\n",
       "WI     5529\n",
       "OK     5253\n",
       "AL     5252\n",
       "CO     5036\n",
       "MA     5001\n",
       "NJ     4984\n",
       "TN     4981\n",
       "KS     4879\n",
       "AR     4864\n",
       "LA     4709\n",
       "MD     4163\n",
       "WA     4155\n",
       "NE     3775\n",
       "SC     3771\n",
       "AZ     3712\n",
       "MS     3565\n",
       "OR     3179\n",
       "MT     3122\n",
       "CT     3037\n",
       "SD     2993\n",
       "NM     2987\n",
       "ME     2857\n",
       "UT     2650\n",
       "AK     2509\n",
       "VT     2504\n",
       "ND     2350\n",
       "ID     2348\n",
       "DC     1865\n",
       "WY     1727\n",
       "NV     1725\n",
       "NH     1695\n",
       "HI      800\n",
       "DE      715\n",
       "RI      492\n",
       "Name: count, dtype: int64"
      ]
     },
     "execution_count": 10,
     "metadata": {},
     "output_type": "execute_result"
    }
   ],
   "source": [
    "df[\"State\"].value_counts()"
   ]
  },
  {
   "cell_type": "code",
   "execution_count": 11,
   "metadata": {},
   "outputs": [
    {
     "data": {
      "text/plain": [
       "Region\n",
       "South        103482\n",
       "Midwest       81299\n",
       "West          51080\n",
       "Northeast     50531\n",
       "Name: count, dtype: int64"
      ]
     },
     "execution_count": 11,
     "metadata": {},
     "output_type": "execute_result"
    }
   ],
   "source": [
    "df[\"Region\"].value_counts()"
   ]
  },
  {
   "cell_type": "code",
   "execution_count": 12,
   "metadata": {},
   "outputs": [],
   "source": [
    "south = df[df[\"Region\"] == \"South\"]\n",
    "midwest = df[df[\"Region\"] == \"Midwest\"]\n",
    "west = df[df[\"Region\"] == \"West\"]\n",
    "northeast = df[df[\"Region\"] == \"Northeast\"]"
   ]
  },
  {
   "cell_type": "code",
   "execution_count": 20,
   "metadata": {},
   "outputs": [
    {
     "data": {
      "image/png": "[encoded data removed]",
      "text/plain": [
       "<Figure size 640x480 with 1 Axes>"
      ]
     },
     "metadata": {},
     "output_type": "display_data"
    }
   ],
   "source": [
    "import numpy as np\n",
    "d = np.array([len(south) , len(midwest) , len(west) , len(northeast)])\n",
    "titles = [\"South\" , \"Midwest\" , \"West\" , \"Northeast\"]\n",
    "colors = [\"lightblue\" , \"orange\" , \"purple\" , \"yellow\"]\n",
    "explode = [0.0 , 0.0 , 0.0 , 0.2]\n",
    "plt.pie(d , labels=titles , explode=explode , colors=colors , autopct=\"%f1.1%%\")\n",
    "plt.show()\n"
   ]
  },
  {
   "cell_type": "code",
   "execution_count": 21,
   "metadata": {},
   "outputs": [
    {
     "data": {
      "text/plain": [
       "Gender\n",
       "M    146184\n",
       "F    140208\n",
       "Name: count, dtype: int64"
      ]
     },
     "execution_count": 21,
     "metadata": {},
     "output_type": "execute_result"
    }
   ],
   "source": [
    "df[\"Gender\"].value_counts()"
   ]
  },
  {
   "cell_type": "code",
   "execution_count": 22,
   "metadata": {},
   "outputs": [
    {
     "data": {
      "image/png": "[encoded data removed]",
      "text/plain": [
       "<Figure size 640x480 with 1 Axes>"
      ]
     },
     "metadata": {},
     "output_type": "display_data"
    }
   ],
   "source": [
    "male = df[df[\"Gender\"] == \"M\"]\n",
    "female = df[df[\"Gender\"] == \"F\"]\n",
    "plt.bar([\"Male\" , \"Female\"] , [len(male) , len(female)] , color=[\"green\" , \"red\"])\n",
    "plt.title(\"Gender Count\")\n",
    "plt.show()\n"
   ]
  },
  {
   "cell_type": "code",
   "execution_count": 23,
   "metadata": {},
   "outputs": [
    {
     "data": {
      "text/plain": [
       "E Mail\n",
       "joel.gonzalez@yahoo.com         2524\n",
       "eulah.bailes@gmail.com           707\n",
       "liz.melo@ibm.com                 608\n",
       "percy.braddy@gmail.com           436\n",
       "hortencia.beebe@hotmail.com      397\n",
       "                                ... \n",
       "christopher.wilsey@gmail.com       1\n",
       "peter.glanz@charter.net            1\n",
       "jerica.hardman@yahoo.co.in         1\n",
       "juan.loney@shell.com               1\n",
       "rolf.schlosser@comcast.net         1\n",
       "Name: count, Length: 64246, dtype: int64"
      ]
     },
     "execution_count": 23,
     "metadata": {},
     "output_type": "execute_result"
    }
   ],
   "source": [
    "df[\"E Mail\"].value_counts()"
   ]
  },
  {
   "cell_type": "code",
   "execution_count": 24,
   "metadata": {},
   "outputs": [
    {
     "data": {
      "text/plain": [
       "E Mail\n",
       "gmail.com         90684\n",
       "yahoo.com         32331\n",
       "hotmail.com       30142\n",
       "aol.com           29637\n",
       "ibm.com            5146\n",
       "comcast.net        4883\n",
       "bp.com             4716\n",
       "walmart.com        4699\n",
       "shaw.ca            4597\n",
       "ntlworld.com       4519\n",
       "yahoo.co.in        4468\n",
       "exxonmobil.com     4467\n",
       "hotmail.co.uk      4462\n",
       "earthlink.net      4440\n",
       "yahoo.ca           4437\n",
       "btinternet.com     4407\n",
       "bellsouth.net      4361\n",
       "outlook.com        4292\n",
       "sbcglobal.net      4270\n",
       "msn.com            4198\n",
       "apple.com          4142\n",
       "rediffmail.com     4127\n",
       "charter.net        4104\n",
       "yahoo.co.uk        4057\n",
       "verizon.net        3904\n",
       "shell.com          3766\n",
       "microsoft.com      3631\n",
       "cox.net            3505\n",
       "Name: count, dtype: int64"
      ]
     },
     "execution_count": 24,
     "metadata": {},
     "output_type": "execute_result"
    }
   ],
   "source": [
    "df[\"E Mail\"] = df[\"E Mail\"].apply(lambda i:i.split(\"@\")[1])\n",
    "df[\"E Mail\"].value_counts()"
   ]
  },
  {
   "cell_type": "code",
   "execution_count": 25,
   "metadata": {},
   "outputs": [
    {
     "data": {
      "image/png": "[encoded data removed]",
      "text/plain": [
       "<Figure size 640x480 with 1 Axes>"
      ]
     },
     "metadata": {},
     "output_type": "display_data"
    }
   ],
   "source": [
    "gmail = df[df[\"E Mail\"] == \"gmail.com\"]\n",
    "yahoo = df[df[\"E Mail\"] == \"yahoo.com\"]\n",
    "hotmail = df[df[\"E Mail\"] == \"hotmail.com\"]\n",
    "ibm = df[df[\"E Mail\"] == \"ibm.com\"]\n",
    "plt.bar([\"gmail\" , \"yahoo\" , \"hotmail\" , \"ibm\"] , [len(gmail) , len(yahoo) , len(hotmail) , len(ibm)])\n",
    "plt.title(\"NUMBER OF E-MAIL BY DOMAIN\")\n",
    "plt.show()"
   ]
  },
  {
   "cell_type": "code",
   "execution_count": null,
   "metadata": {},
   "outputs": [],
   "source": []
  },
  {
   "cell_type": "code",
   "execution_count": null,
   "metadata": {},
   "outputs": [],
   "source": []
  },
  {
   "cell_type": "code",
   "execution_count": null,
   "metadata": {},
   "outputs": [],
   "source": []
  },
  {
   "cell_type": "code",
   "execution_count": null,
   "metadata": {},
   "outputs": [],
   "source": []
  },
  {
   "cell_type": "code",
   "execution_count": null,
   "metadata": {},
   "outputs": [],
   "source": []
  },
  {
   "cell_type": "code",
   "execution_count": null,
   "metadata": {},
   "outputs": [],
   "source": []
  },
  {
   "cell_type": "code",
   "execution_count": null,
   "metadata": {},
   "outputs": [],
   "source": []
  },
  {
   "cell_type": "code",
   "execution_count": null,
   "metadata": {},
   "outputs": [],
   "source": []
  },
  {
   "cell_type": "code",
   "execution_count": null,
   "metadata": {},
   "outputs": [],
   "source": []
  },
  {
   "cell_type": "code",
   "execution_count": null,
   "metadata": {},
   "outputs": [],
   "source": []
  },
  {
   "cell_type": "code",
   "execution_count": null,
   "metadata": {},
   "outputs": [],
   "source": []
  },
  {
   "cell_type": "code",
   "execution_count": null,
   "metadata": {},
   "outputs": [],
   "source": []
  },
  {
   "cell_type": "code",
   "execution_count": null,
   "metadata": {},
   "outputs": [],
   "source": []
  },
  {
   "cell_type": "code",
   "execution_count": null,
   "metadata": {},
   "outputs": [],
   "source": []
  }
 ],
 "metadata": {
  "kernelspec": {
   "display_name": "Python 3",
   "language": "python",
   "name": "python3"
  },
  "language_info": {
   "codemirror_mode": {
    "name": "ipython",
    "version": 3
   },
   "file_extension": ".py",
   "mimetype": "text/x-python",
   "name": "python",
   "nbconvert_exporter": "python",
   "pygments_lexer": "ipython3",
   "version": "3.10.11"
  }
 },
 "nbformat": 4,
 "nbformat_minor": 2
}
